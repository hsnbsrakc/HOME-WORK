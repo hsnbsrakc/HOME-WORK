{
 "cells": [
  {
   "cell_type": "code",
   "execution_count": null,
   "metadata": {},
   "outputs": [
    {
     "name": "stdout",
     "output_type": "stream",
     "text": [
      "1. UCGEN HIPOTENUSU HESAPLAMA\n",
      "2. NUMARA GOSTERME EKRANI\n",
      "3. 6 SAYININ ARITMATIK ORTALAMASINI HESAPLAMA\n"
     ]
    }
   ],
   "source": [
    "print (\"1. UCGEN HIPOTENUSU HESAPLAMA\" )\n",
    "print (\"2. NUMARA GOSTERME EKRANI\" )\n",
    "print (\"3. 6 SAYININ ARITMATIK ORTALAMASINI HESAPLAMA\" )\n",
    "\n",
    "secim = int(input(\"UC SAYIDAN BIRINI SECINIZ (1,2,3) = \"))\n",
    "sonuc = 0;\n",
    "\n",
    "if secim < 1:\n",
    "    print(\"YANLIS SAYI GIRDINIZ PROGRAMI TEKRAR BASLATIN\")\n",
    "elif secim >3:\n",
    "    print(\"YANLIS SAYI GIRDINIZ PROGRAMI TEKRAR BASLATIN\")\n",
    "    \n",
    "elif (secim == 1): \n",
    "    print (\"UCGEN HIPOTENUSU HESAPLAMA\")\n",
    "    deger1=int(input(\"a degerini girin:\"))  \n",
    "    deger2=int(input(\"b degerini girin:\"))   \n",
    "    print(\"hipotenus bulma islemi: \",deger1,deger2,)  \n",
    "    hipotenus=((deger1**2+deger2**2)**0.5)\n",
    "    print(\"hipotenus:\",hipotenus)\n",
    "    \n",
    "elif (secim == 2):\n",
    "    print (\"NUMARA GOSTERME EKRANI\")\n",
    "    n=float(input(\"sayi degerini girin\\n\"))\n",
    "    i=1\n",
    "    while i <=n:\n",
    "        print (\"\",i)\n",
    "        i+=1\n",
    "        \n",
    "\n",
    "elif (secim ==3):\n",
    "    print (\"6 SAYININ ARITMATIK ORTALAMASINI HESAPLAMA\")\n",
    "    deger1=int(input(\"1. degeri girin:\"))  \n",
    "    deger2=int(input(\"2. degeri girin:\")) \n",
    "    deger3=int(input(\"3. degeri girin:\"))\n",
    "    deger4=int(input(\"4. degeri girin:\"))  \n",
    "    deger5=int(input(\"5. degeri girin:\")) \n",
    "    deger6=int(input(\"6. degeri girin:\"))\n",
    "    print (\"ortalama bulma islemi: \",deger1,deger2,deger3,deger4,deger5,deger6)\n",
    "    ortalama = ((deger1+deger2+deger3+deger4+deger5+deger6)/6)\n",
    "    print (\"ortalama:\",ortalama)"
   ]
  },
  {
   "cell_type": "code",
   "execution_count": null,
   "metadata": {},
   "outputs": [],
   "source": []
  },
  {
   "cell_type": "code",
   "execution_count": null,
   "metadata": {},
   "outputs": [],
   "source": []
  },
  {
   "cell_type": "code",
   "execution_count": null,
   "metadata": {},
   "outputs": [],
   "source": []
  }
 ],
 "metadata": {
  "kernelspec": {
   "display_name": "Python 3",
   "language": "python",
   "name": "python3"
  },
  "language_info": {
   "codemirror_mode": {
    "name": "ipython",
    "version": 3
   },
   "file_extension": ".py",
   "mimetype": "text/x-python",
   "name": "python",
   "nbconvert_exporter": "python",
   "pygments_lexer": "ipython3",
   "version": "3.6.5"
  }
 },
 "nbformat": 4,
 "nbformat_minor": 2
}
