{
 "cells": [
  {
   "cell_type": "code",
   "execution_count": 1,
   "metadata": {},
   "outputs": [
    {
     "name": "stdout",
     "output_type": "stream",
     "text": [
      "enter h number5\n",
      "enter b number7\n",
      "enter a number-1\n",
      "discriminant= 45.0\n",
      "x1= -0.7294901687515765\n",
      "x2= -34.270509831248425\n"
     ]
    }
   ],
   "source": [
    "import math\n",
    "numberh=float(input(\"enter h number\"))\n",
    "numberb=float(input(\"enter b number\"))\n",
    "numbera=float(input(\"enter a number\"))\n",
    "discriminant=float\n",
    "x1=float\n",
    "x2=float\n",
    "discriminant=numberb*numberb-4*numbera*numbera\n",
    "if discriminant<0:\n",
    "    print(\"reel kök yok\")\n",
    "else:\n",
    "    x1=(-numberb+math.sqrt(discriminant))/2*numberh\n",
    "    x2=(-numberb-math.sqrt(discriminant))/2*numberh\n",
    "    print(\"discriminant=\",discriminant)\n",
    "    print(\"x1=\",x1)\n",
    "    print(\"x2=\",x2)"
   ]
  },
  {
   "cell_type": "code",
   "execution_count": null,
   "metadata": {},
   "outputs": [],
   "source": []
  }
 ],
 "metadata": {
  "kernelspec": {
   "display_name": "Python 3",
   "language": "python",
   "name": "python3"
  },
  "language_info": {
   "codemirror_mode": {
    "name": "ipython",
    "version": 3
   },
   "file_extension": ".py",
   "mimetype": "text/x-python",
   "name": "python",
   "nbconvert_exporter": "python",
   "pygments_lexer": "ipython3",
   "version": "3.6.5"
  }
 },
 "nbformat": 4,
 "nbformat_minor": 2
}
