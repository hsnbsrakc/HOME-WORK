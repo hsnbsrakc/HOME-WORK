{
 "cells": [
  {
   "cell_type": "code",
   "execution_count": 4,
   "metadata": {},
   "outputs": [
    {
     "name": "stdout",
     "output_type": "stream",
     "text": [
      "Enter H number=203\n",
      "Enter B number=123\n",
      "Enter A number=571\n",
      "discriminant= -448523\n",
      "x1= (-12484.499999999996+67976.43765857402j)\n",
      "x2= (-12484.500000000004-67976.43765857402j)\n"
     ]
    }
   ],
   "source": [
    "h=int(input(\"Enter H number=\"))\n",
    "b=int(input(\"Enter B number=\"))\n",
    "a=int(input(\"Enter A number=\"))\n",
    "discriminant=b**2-4*h*a\n",
    "x1=(-1*b+discriminant**0.5)/2*h\n",
    "x2=(-1*b-discriminant**0.5)/2*h\n",
    "print(\"discriminant=\",discriminant)\n",
    "print(\"x1=\",x1)\n",
    "print(\"x2=\",x2)\n"
   ]
  },
  {
   "cell_type": "code",
   "execution_count": null,
   "metadata": {},
   "outputs": [],
   "source": []
  },
  {
   "cell_type": "code",
   "execution_count": null,
   "metadata": {},
   "outputs": [],
   "source": []
  },
  {
   "cell_type": "code",
   "execution_count": null,
   "metadata": {},
   "outputs": [],
   "source": []
  }
 ],
 "metadata": {
  "kernelspec": {
   "display_name": "Python 3",
   "language": "python",
   "name": "python3"
  },
  "language_info": {
   "codemirror_mode": {
    "name": "ipython",
    "version": 3
   },
   "file_extension": ".py",
   "mimetype": "text/x-python",
   "name": "python",
   "nbconvert_exporter": "python",
   "pygments_lexer": "ipython3",
   "version": "3.6.5"
  }
 },
 "nbformat": 4,
 "nbformat_minor": 2
}
